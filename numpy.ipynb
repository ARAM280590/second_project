{
 "cells": [
  {
   "cell_type": "code",
   "execution_count": null,
   "id": "6385f8af",
   "metadata": {},
   "outputs": [],
   "source": [
    "## "
   ]
  },
  {
   "cell_type": "code",
   "execution_count": 19,
   "id": "1c4bc071",
   "metadata": {},
   "outputs": [],
   "source": [
    "import numpy as np\n",
    "a = np.array([1,2,3,4,5])"
   ]
  },
  {
   "cell_type": "code",
   "execution_count": 20,
   "id": "b7b3f124",
   "metadata": {},
   "outputs": [
    {
     "name": "stdout",
     "output_type": "stream",
     "text": [
      "[1 2 3 4 5]\n"
     ]
    }
   ],
   "source": [
    "print(a)"
   ]
  },
  {
   "cell_type": "code",
   "execution_count": 8,
   "id": "86d17b52",
   "metadata": {},
   "outputs": [
    {
     "name": "stdout",
     "output_type": "stream",
     "text": [
      "[[0. 0. 0.]\n",
      " [0. 0. 0.]\n",
      " [0. 0. 0.]]\n"
     ]
    }
   ],
   "source": [
    "zroner = np.zeros((3,3))\n",
    "print(zroner)"
   ]
  },
  {
   "cell_type": "code",
   "execution_count": 9,
   "id": "46a69270",
   "metadata": {},
   "outputs": [
    {
     "name": "stdout",
     "output_type": "stream",
     "text": [
      "[[1. 1. 1. 1. 1. 1. 1.]\n",
      " [1. 1. 1. 1. 1. 1. 1.]]\n"
     ]
    }
   ],
   "source": [
    "meker = np.ones((2,7))\n",
    "print(meker)"
   ]
  },
  {
   "cell_type": "code",
   "execution_count": 11,
   "id": "f5e6d374",
   "metadata": {},
   "outputs": [
    {
     "name": "stdout",
     "output_type": "stream",
     "text": [
      "[[0. 0. 0.]\n",
      " [0. 0. 0.]\n",
      " [0. 0. 0.]]\n"
     ]
    }
   ],
   "source": [
    "datark = np.empty((3,3))\n",
    "print(datark)"
   ]
  },
  {
   "cell_type": "code",
   "execution_count": 18,
   "id": "2fb76620",
   "metadata": {
    "scrolled": true
   },
   "outputs": [
    {
     "name": "stdout",
     "output_type": "stream",
     "text": [
      "[[17 17 17 17]\n",
      " [17 17 17 17]\n",
      " [17 17 17 17]]\n"
     ]
    }
   ],
   "source": [
    "lcon = np.full((3,4),17)\n",
    "print(lcon)"
   ]
  },
  {
   "cell_type": "markdown",
   "id": "bcad3006",
   "metadata": {},
   "source": [
    "## boolean expressions "
   ]
  },
  {
   "cell_type": "code",
   "execution_count": 22,
   "id": "72d77436",
   "metadata": {},
   "outputs": [
    {
     "name": "stdout",
     "output_type": "stream",
     "text": [
      "[4, 5]\n"
     ]
    }
   ],
   "source": [
    "print([i for i in a if i >= 4 ])"
   ]
  },
  {
   "cell_type": "code",
   "execution_count": 25,
   "id": "dc0c71ce",
   "metadata": {},
   "outputs": [
    {
     "data": {
      "text/plain": [
       "array([1, 2, 3])"
      ]
     },
     "execution_count": 25,
     "metadata": {},
     "output_type": "execute_result"
    }
   ],
   "source": [
    "a[[True,True,True,False,False]]"
   ]
  },
  {
   "cell_type": "code",
   "execution_count": 27,
   "id": "cf68f39f",
   "metadata": {},
   "outputs": [
    {
     "data": {
      "text/plain": [
       "array([False, False, False, False,  True])"
      ]
     },
     "execution_count": 27,
     "metadata": {},
     "output_type": "execute_result"
    }
   ],
   "source": [
    "a >= 5"
   ]
  },
  {
   "cell_type": "code",
   "execution_count": 28,
   "id": "21adadec",
   "metadata": {},
   "outputs": [
    {
     "data": {
      "text/plain": [
       "array([4, 5])"
      ]
     },
     "execution_count": 28,
     "metadata": {},
     "output_type": "execute_result"
    }
   ],
   "source": [
    "a[a >= 4]"
   ]
  },
  {
   "cell_type": "code",
   "execution_count": 29,
   "id": "19e9fc1c",
   "metadata": {},
   "outputs": [
    {
     "name": "stdout",
     "output_type": "stream",
     "text": [
      "[[1 2 3]\n",
      " [7 1 8]]\n"
     ]
    }
   ],
   "source": [
    "import numpy as np\n",
    "\n",
    "# Example 2D array\n",
    "two_dim_array = np.array([[1, 2, 3],\n",
    "                          [4, 5, 6],\n",
    "                          [7, 1, 8]])\n",
    "\n",
    "# Select rows where the second column is less than 3\n",
    "result = two_dim_array[two_dim_array[:, 1] < 3]\n",
    "print(result)\n"
   ]
  },
  {
   "cell_type": "code",
   "execution_count": 30,
   "id": "751aa01c",
   "metadata": {},
   "outputs": [
    {
     "name": "stdout",
     "output_type": "stream",
     "text": [
      "[2 1]\n"
     ]
    }
   ],
   "source": [
    "import numpy as np\n",
    "\n",
    "# Example 2D array\n",
    "two_dim_array = np.array([[1, 2, 3],\n",
    "                          [4, 5, 6],\n",
    "                          [7, 1, 8]])\n",
    "\n",
    "# Select rows where the second column is less than 3\n",
    "result = two_dim_array[two_dim_array[:, 1] < 3,1]\n",
    "print(result)\n"
   ]
  },
  {
   "cell_type": "code",
   "execution_count": 43,
   "id": "90d9a7f6",
   "metadata": {},
   "outputs": [],
   "source": [
    "b = np.arange(1,16)"
   ]
  },
  {
   "cell_type": "code",
   "execution_count": 47,
   "id": "b498c769",
   "metadata": {},
   "outputs": [
    {
     "data": {
      "text/plain": [
       "15"
      ]
     },
     "execution_count": 47,
     "metadata": {},
     "output_type": "execute_result"
    }
   ],
   "source": [
    "b.size"
   ]
  },
  {
   "cell_type": "code",
   "execution_count": 48,
   "id": "e39f30b3",
   "metadata": {},
   "outputs": [
    {
     "data": {
      "text/plain": [
       "array([[ 1,  2,  3,  4,  5],\n",
       "       [ 6,  7,  8,  9, 10],\n",
       "       [11, 12, 13, 14, 15]])"
      ]
     },
     "execution_count": 48,
     "metadata": {},
     "output_type": "execute_result"
    }
   ],
   "source": [
    "b.reshape(3,5)"
   ]
  },
  {
   "cell_type": "code",
   "execution_count": 49,
   "id": "599d3aab",
   "metadata": {},
   "outputs": [
    {
     "data": {
      "text/plain": [
       "array([[ 1,  2,  3],\n",
       "       [ 4,  5,  6],\n",
       "       [ 7,  8,  9],\n",
       "       [10, 11, 12],\n",
       "       [13, 14, 15]])"
      ]
     },
     "execution_count": 49,
     "metadata": {},
     "output_type": "execute_result"
    }
   ],
   "source": [
    "b.reshape(5,3)"
   ]
  },
  {
   "cell_type": "code",
   "execution_count": 50,
   "id": "2174d28f",
   "metadata": {},
   "outputs": [
    {
     "data": {
      "text/plain": [
       "array([[ 1,  2,  3,  4,  5],\n",
       "       [ 6,  7,  8,  9, 10],\n",
       "       [11, 12, 13, 14, 15]])"
      ]
     },
     "execution_count": 50,
     "metadata": {},
     "output_type": "execute_result"
    }
   ],
   "source": [
    "b.reshape(3,-1)"
   ]
  },
  {
   "cell_type": "code",
   "execution_count": 51,
   "id": "7cacfc03",
   "metadata": {},
   "outputs": [
    {
     "data": {
      "text/plain": [
       "array([[ 1,  2,  3,  4,  5],\n",
       "       [ 6,  7,  8,  9, 10],\n",
       "       [11, 12, 13, 14, 15]])"
      ]
     },
     "execution_count": 51,
     "metadata": {},
     "output_type": "execute_result"
    }
   ],
   "source": [
    "b.reshape(-1,5)"
   ]
  },
  {
   "cell_type": "code",
   "execution_count": 52,
   "id": "f29abd69",
   "metadata": {},
   "outputs": [
    {
     "ename": "ValueError",
     "evalue": "cannot reshape array of size 15 into shape (4,newaxis)",
     "output_type": "error",
     "traceback": [
      "\u001b[0;31m---------------------------------------------------------------------------\u001b[0m",
      "\u001b[0;31mValueError\u001b[0m                                Traceback (most recent call last)",
      "Cell \u001b[0;32mIn[52], line 1\u001b[0m\n\u001b[0;32m----> 1\u001b[0m b\u001b[38;5;241m.\u001b[39mreshape(\u001b[38;5;241m4\u001b[39m,\u001b[38;5;241m-\u001b[39m\u001b[38;5;241m1\u001b[39m)\n",
      "\u001b[0;31mValueError\u001b[0m: cannot reshape array of size 15 into shape (4,newaxis)"
     ]
    }
   ],
   "source": [
    "b.reshape(4,-1)"
   ]
  },
  {
   "cell_type": "code",
   "execution_count": 53,
   "id": "70818236",
   "metadata": {},
   "outputs": [],
   "source": []
  },
  {
   "cell_type": "code",
   "execution_count": 54,
   "id": "80a8edca",
   "metadata": {},
   "outputs": [
    {
     "data": {
      "text/plain": [
       "array([ 1,  2,  3,  4,  5,  6,  7,  8,  9, 10, 11, 12, 13, 14, 15])"
      ]
     },
     "execution_count": 54,
     "metadata": {},
     "output_type": "execute_result"
    }
   ],
   "source": [
    "transposted_b"
   ]
  },
  {
   "cell_type": "code",
   "execution_count": 55,
   "id": "ac3562ec",
   "metadata": {},
   "outputs": [
    {
     "data": {
      "text/plain": [
       "array([ 1,  2,  3,  4,  5,  6,  7,  8,  9, 10, 11, 12, 13, 14, 15])"
      ]
     },
     "execution_count": 55,
     "metadata": {},
     "output_type": "execute_result"
    }
   ],
   "source": [
    "b"
   ]
  },
  {
   "cell_type": "code",
   "execution_count": 56,
   "id": "13d773b0",
   "metadata": {},
   "outputs": [
    {
     "data": {
      "text/plain": [
       "array([[ 1,  2,  3,  4,  5],\n",
       "       [ 6,  7,  8,  9, 10],\n",
       "       [11, 12, 13, 14, 15]])"
      ]
     },
     "execution_count": 56,
     "metadata": {},
     "output_type": "execute_result"
    }
   ],
   "source": [
    "b = b.reshape(3,-1)\n",
    "b"
   ]
  },
  {
   "cell_type": "code",
   "execution_count": 57,
   "id": "ac6da7d8",
   "metadata": {},
   "outputs": [
    {
     "data": {
      "text/plain": [
       "array([[ 1,  6, 11],\n",
       "       [ 2,  7, 12],\n",
       "       [ 3,  8, 13],\n",
       "       [ 4,  9, 14],\n",
       "       [ 5, 10, 15]])"
      ]
     },
     "execution_count": 57,
     "metadata": {},
     "output_type": "execute_result"
    }
   ],
   "source": [
    "transposted_b = b.T\n",
    "transposted_b"
   ]
  },
  {
   "cell_type": "code",
   "execution_count": 24,
   "id": "6c13126c",
   "metadata": {},
   "outputs": [],
   "source": [
    "import numpy as np\n",
    "import time \n"
   ]
  },
  {
   "cell_type": "code",
   "execution_count": 25,
   "id": "2bc7c217",
   "metadata": {},
   "outputs": [
    {
     "name": "stdout",
     "output_type": "stream",
     "text": [
      "-0.01826930046081543\n"
     ]
    }
   ],
   "source": [
    "start_time = time.time()\n",
    "py_list = list(range(10**7))\n",
    "py_sum = sum(py_list)\n",
    "end_time = time.time()\n",
    "exec_time1 = end_time - start_time \n",
    "print(exec_time)"
   ]
  },
  {
   "cell_type": "code",
   "execution_count": 26,
   "id": "11e51fbf",
   "metadata": {},
   "outputs": [],
   "source": [
    "start_time = time.time()\n",
    "num_list = np.arange(10**7)\n",
    "sum_list = np.sum(num_list)\n",
    "end_time = time.time()\n",
    "exec_time2 = start_time - end_time "
   ]
  },
  {
   "cell_type": "code",
   "execution_count": 27,
   "id": "e1bbe924",
   "metadata": {},
   "outputs": [
    {
     "name": "stdout",
     "output_type": "stream",
     "text": [
      "-0.01826930046081543\n"
     ]
    }
   ],
   "source": [
    "print(exec_time)"
   ]
  },
  {
   "cell_type": "code",
   "execution_count": 28,
   "id": "130eba7c",
   "metadata": {},
   "outputs": [
    {
     "data": {
      "text/plain": [
       "-8.305546032066148"
      ]
     },
     "execution_count": 28,
     "metadata": {},
     "output_type": "execute_result"
    }
   ],
   "source": [
    "exec_time1/exec_time2"
   ]
  },
  {
   "cell_type": "code",
   "execution_count": 29,
   "id": "44ddef11",
   "metadata": {},
   "outputs": [
    {
     "name": "stdout",
     "output_type": "stream",
     "text": [
      "-0.01826930046081543\n"
     ]
    }
   ],
   "source": [
    "start_time = time.time()\n",
    "py_list = list(range(10**7))\n",
    "py_sum = sum(py_list)\n",
    "end_time = time.time()\n",
    "exec_time1 = end_time - start_time \n",
    "print(exec_time)"
   ]
  },
  {
   "cell_type": "code",
   "execution_count": 16,
   "id": "a4442044",
   "metadata": {},
   "outputs": [
    {
     "name": "stdout",
     "output_type": "stream",
     "text": [
      "[[0. 0.]\n",
      " [0. 0.]]\n",
      "[[7 7 7]\n",
      " [7 7 7]]\n"
     ]
    }
   ],
   "source": [
    "# Creating empty array\n",
    "empty = np.empty((2,2)) # պատահական արժեքներ\n",
    "\n",
    "# Creating array with a constant value\n",
    "full = np.full((2,3), 7)\n",
    "\n",
    "print(empty)\n",
    "print(full)"
   ]
  },
  {
   "cell_type": "code",
   "execution_count": 18,
   "id": "be7167a9",
   "metadata": {},
   "outputs": [
    {
     "data": {
      "text/plain": [
       "array([2, 3])"
      ]
     },
     "execution_count": 18,
     "metadata": {},
     "output_type": "execute_result"
    }
   ],
   "source": [
    "data = np.array([1,2,3])\n",
    "data[-2:]"
   ]
  },
  {
   "cell_type": "code",
   "execution_count": 19,
   "id": "9554912b",
   "metadata": {},
   "outputs": [
    {
     "name": "stdout",
     "output_type": "stream",
     "text": [
      "\n",
      "Original 2D array:\n",
      "[[ 1  2  3  4  5]\n",
      " [ 6  7  8  9 10]\n",
      " [11 12 13 14 15]\n",
      " [16 17 18 19 20]\n",
      " [21 22 23 24 25]]\n"
     ]
    }
   ],
   "source": [
    "two_dim_array = np.array([[1, 2, 3, 4, 5],\n",
    "                          [6, 7, 8, 9, 10],\n",
    "                          [11, 12, 13, 14, 15],\n",
    "                          [16, 17, 18, 19, 20],\n",
    "                          [21, 22, 23, 24, 25]])\n",
    "\n",
    "print(\"\\nOriginal 2D array:\")\n",
    "print(two_dim_array)"
   ]
  },
  {
   "cell_type": "code",
   "execution_count": 30,
   "id": "59cfb906",
   "metadata": {},
   "outputs": [
    {
     "data": {
      "text/plain": [
       "array(['1', '2', '3', '4'], dtype='<U1')"
      ]
     },
     "execution_count": 30,
     "metadata": {},
     "output_type": "execute_result"
    }
   ],
   "source": [
    "np.array([1,2,3,4], dtype=\"str\")"
   ]
  },
  {
   "cell_type": "code",
   "execution_count": 35,
   "id": "84e92a96",
   "metadata": {},
   "outputs": [],
   "source": [
    "a=np.array([1,2,3,4],dtype =\"int32\" )"
   ]
  },
  {
   "cell_type": "code",
   "execution_count": 36,
   "id": "a052967d",
   "metadata": {},
   "outputs": [
    {
     "data": {
      "text/plain": [
       "dtype('int32')"
      ]
     },
     "execution_count": 36,
     "metadata": {},
     "output_type": "execute_result"
    }
   ],
   "source": [
    "a.dtype\n"
   ]
  },
  {
   "cell_type": "code",
   "execution_count": null,
   "id": "8f2b26e3",
   "metadata": {},
   "outputs": [],
   "source": []
  },
  {
   "cell_type": "code",
   "execution_count": 37,
   "id": "7e012abb",
   "metadata": {},
   "outputs": [
    {
     "name": "stdout",
     "output_type": "stream",
     "text": [
      "NumPy execution time: 0.1763291358947754\n"
     ]
    }
   ],
   "source": [
    "# Using NumPy arrays\n",
    "start_time = time.time()\n",
    "\n",
    "np_array = np.arange(10**8)  # Create a NumPy array with 100 million elements\n",
    "np_sum = np.sum(np_array)  # Calculate the sum of the array\n",
    "\n",
    "end_time = time.time()\n",
    "execution_time_np = end_time - start_time\n",
    "print(\"NumPy execution time:\", execution_time_np)"
   ]
  },
  {
   "cell_type": "code",
   "execution_count": 38,
   "id": "96421147",
   "metadata": {},
   "outputs": [
    {
     "name": "stdout",
     "output_type": "stream",
     "text": [
      "Python list execution time: 2.480778932571411\n"
     ]
    }
   ],
   "source": [
    "# Using Python lists\n",
    "start_time = time.time()\n",
    "\n",
    "py_list = list(range(10**8))  # Create a Python list with 10 million elements\n",
    "py_sum = sum(py_list)  # Calculate the sum of the list\n",
    "\n",
    "end_time = time.time()\n",
    "\n",
    "execution_time_py = end_time - start_time\n",
    "print(\"Python list execution time:\", execution_time_py)"
   ]
  },
  {
   "cell_type": "code",
   "execution_count": 39,
   "id": "9054d6fa",
   "metadata": {},
   "outputs": [
    {
     "name": "stdout",
     "output_type": "stream",
     "text": [
      "NumPy was 14.07x faster, հզոր NumPy\n"
     ]
    }
   ],
   "source": [
    "print(f\"NumPy was {execution_time_py / execution_time_np:.2f}x faster, հզոր NumPy\")"
   ]
  },
  {
   "cell_type": "code",
   "execution_count": null,
   "id": "a8046fd8",
   "metadata": {},
   "outputs": [],
   "source": []
  }
 ],
 "metadata": {
  "kernelspec": {
   "display_name": "Python 3 (ipykernel)",
   "language": "python",
   "name": "python3"
  },
  "language_info": {
   "codemirror_mode": {
    "name": "ipython",
    "version": 3
   },
   "file_extension": ".py",
   "mimetype": "text/x-python",
   "name": "python",
   "nbconvert_exporter": "python",
   "pygments_lexer": "ipython3",
   "version": "3.11.5"
  }
 },
 "nbformat": 4,
 "nbformat_minor": 5
}
